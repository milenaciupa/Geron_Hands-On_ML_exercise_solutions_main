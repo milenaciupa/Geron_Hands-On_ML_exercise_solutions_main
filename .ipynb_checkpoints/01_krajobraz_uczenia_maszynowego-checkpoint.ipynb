{
 "cells": [
  {
   "cell_type": "markdown",
   "id": "bcf1ff0c",
   "metadata": {},
   "source": [
    "**Rozdział 1. Krajobraz uczenia maszynowego**"
   ]
  },
  {
   "cell_type": "code",
   "execution_count": 1,
   "id": "0a959825",
   "metadata": {},
   "outputs": [],
   "source": [
    "from __future__ import division, print_function, unicode_literals"
   ]
  },
  {
   "cell_type": "code",
   "execution_count": 4,
   "id": "ba6e0d38",
   "metadata": {},
   "outputs": [],
   "source": [
    "import numpy as np\n",
    "import numpy.random as rnd\n",
    "import os"
   ]
  },
  {
   "cell_type": "code",
   "execution_count": 5,
   "id": "f8b1fab8",
   "metadata": {},
   "outputs": [],
   "source": [
    "# W celu zachowania powtarzalności wyników w kolejnych przebiegach\n",
    "rnd.seed(42)"
   ]
  },
  {
   "cell_type": "code",
   "execution_count": 7,
   "id": "6ab36813",
   "metadata": {},
   "outputs": [],
   "source": [
    " %matplotlib inline\n",
    "import matplotlib\n",
    "import matplotlib.pyplot as pltXXXXXXXXXXXXX BM N V BBBBBBBBBBBBBBBBBBBBBBBBB\n",
    "plt.rcParams['axes.labelsize'] = 14\n",
    "plt.rcParams['xtick.labelsize'] = 12\n",
    "plt.rcParams['ytick.labelsize'] = 12\n",
    "\n",
    "PROJECT_ROOT_DIR = \".\"\n",
    "CHAPTER_ID = \"podstawy\"\n",
    "\n",
    "def save_fig(fig_id, tight_layout=True):\n",
    "    path = os.path.join(PROJECT_ROOT_DIR, \"rysunki\", CHAPTER_ID, fig_id + \".png\")\n",
    "    print(\"Zapisywanie do pliku\", fig_id)\n",
    "    if tight_layout:\n",
    "        plt.tight_layout()\n",
    "    plt.savefig(path, format='png', dpi=300)"
   ]
  },
  {
   "cell_type": "code",
   "execution_count": 9,
   "id": "248f7976",
   "metadata": {},
   "outputs": [
    {
     "data": {
      "text/plain": [
       "'zestawy danych\\\\satysfakcja'"
      ]
     },
     "execution_count": 9,
     "metadata": {},
     "output_type": "execute_result"
    }
   ],
   "source": [
    "import os\n",
    "datapath = os.path.join(\"zestawy danych\", \"satysfakcja\")\n",
    "datapath"
   ]
  },
  {
   "cell_type": "code",
   "execution_count": null,
   "id": "1ee2f94e",
   "metadata": {},
   "outputs": [],
   "source": [
    "# Importowane klasy"
   ]
  },
  {
   "cell_type": "code",
   "execution_count": null,
   "id": "c8f0bf7d",
   "metadata": {},
   "outputs": [],
   "source": []
  }
 ],
 "metadata": {
  "kernelspec": {
   "display_name": "Python 3 (ipykernel)",
   "language": "python",
   "name": "python3"
  },
  "language_info": {
   "codemirror_mode": {
    "name": "ipython",
    "version": 3
   },
   "file_extension": ".py",
   "mimetype": "text/x-python",
   "name": "python",
   "nbconvert_exporter": "python",
   "pygments_lexer": "ipython3",
   "version": "3.9.12"
  }
 },
 "nbformat": 4,
 "nbformat_minor": 5
}
