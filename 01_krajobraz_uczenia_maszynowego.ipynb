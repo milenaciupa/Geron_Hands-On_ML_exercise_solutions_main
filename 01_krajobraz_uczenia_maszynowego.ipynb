{
 "cells": [
  {
   "cell_type": "markdown",
   "id": "432d0eb0",
   "metadata": {},
   "source": [
    "**Rozdział 1. Krajobraz uczenia maszynowego**"
   ]
  },
  {
   "cell_type": "code",
   "execution_count": 46,
   "id": "41a74c08",
   "metadata": {},
   "outputs": [],
   "source": [
    "import numpy as np\n",
    "import numpy.random as rnd\n",
    "import os\n",
    "import pandas as pd\n",
    "import matplotlib\n",
    "import matplotlib.pyplot as plt\n",
    "import os\n",
    "import sklearn.linear_model"
   ]
  },
  {
   "cell_type": "code",
   "execution_count": 5,
   "id": "8a935df9",
   "metadata": {},
   "outputs": [],
   "source": [
    "# W celu zachowania powtarzalności wyników w kolejnych przebiegach\n",
    "rnd.seed(42)"
   ]
  },
  {
   "cell_type": "code",
   "execution_count": 3,
   "id": "170c8a18",
   "metadata": {},
   "outputs": [],
   "source": [
    "# Generowanie ładnych wykresów\n",
    "%matplotlib inline\n",
    "\n",
    "plt.rcParams['axes.labelsize'] = 14\n",
    "plt.rcParams['xtick.labelsize'] = 12\n",
    "plt.rcParams['ytick.labelsize'] = 12\n",
    "\n",
    "PROJECT_ROOT_DIR = \".\"\n",
    "CHAPTER_ID = \"podstawy\"\n",
    "\n",
    "def save_fig(fig_id, tight_layout=True):\n",
    "    path = os.path.join(PROJECT_ROOT_DIR, \"rysunki\", CHAPTER_ID, fig_id + \".png\")\n",
    "    print(\"Zapisywanie do pliku\", fig_id)\n",
    "    if tight_layout:\n",
    "        plt.tight_layout()\n",
    "    plt.savefig(path, format='png', dpi=300)"
   ]
  },
  {
   "cell_type": "code",
   "execution_count": 4,
   "id": "338419c6",
   "metadata": {},
   "outputs": [
    {
     "data": {
      "text/plain": [
       "'zestawy danych\\\\satysfakcja\\\\'"
      ]
     },
     "execution_count": 4,
     "metadata": {},
     "output_type": "execute_result"
    }
   ],
   "source": [
    "datapath = os.path.join(\"zestawy danych\", \"satysfakcja\",\"\")\n",
    "datapath"
   ]
  },
  {
   "cell_type": "code",
   "execution_count": 28,
   "id": "d6ca2a9d",
   "metadata": {},
   "outputs": [],
   "source": [
    "def prepare_country_stats(oecd_bli, gdp_per_capita):\n",
    "    oecd_bli = oecd_bli[oecd_bli[\"INEQUALITY\"]==\"TOT\"]\n",
    "    oecd_bli = oecd_bli.pivot(index=\"Country\", columns=\"Indicator\", values=\"Value\")\n",
    "    gdp_per_capita.rename(columns={\"2015\": \"GDP per capita\"}, inplace=True)\n",
    "    gdp_per_capita.set_index(\"Country\", inplace=True)\n",
    "    full_country_stats = pd.merge(left=oecd_bli, right=gdp_per_capita,\n",
    "                                  left_index=True, right_index=True)\n",
    "    full_country_stats.sort_values(by=\"GDP per capita\", inplace=True)\n",
    "    remove_indices = [0, 1, 6, 8, 33, 34, 35]\n",
    "    keep_indices = list(set(range(36)) - set(remove_indices))\n",
    "    return full_country_stats[[\"GDP per capita\", 'Life satisfaction']].iloc[keep_indices]"
   ]
  },
  {
   "cell_type": "code",
   "execution_count": 56,
   "id": "220c36c9",
   "metadata": {},
   "outputs": [],
   "source": [
    "#wczytanie danych\n",
    "gdp_per_capita = pd.read_csv(datapath + 'gdp_per_capita.csv', thousands=',', delimiter='\\t',\n",
    "                            encoding='latin1', na_values='n/a')\n",
    "oecd_bli = pd.read_csv(datapath + \"oecd_bli_2015.csv\", thousands=',')"
   ]
  },
  {
   "cell_type": "code",
   "execution_count": 57,
   "id": "5578af0b",
   "metadata": {},
   "outputs": [
    {
     "data": {
      "image/png": "[encoded data removed]",
      "text/plain": [
       "<Figure size 432x288 with 1 Axes>"
      ]
     },
     "metadata": {
      "needs_background": "light"
     },
     "output_type": "display_data"
    },
    {
     "name": "stdout",
     "output_type": "stream",
     "text": [
      "[[5.96242338]]\n"
     ]
    }
   ],
   "source": [
    "# Przygotowuje dane\n",
    "country_stats = prepare_country_stats(oecd_bli, gdp_per_capita)\n",
    "\n",
    "X = np.c_[country_stats[\"GDP per capita\"]]\n",
    "y = np.c_[country_stats[\"Life satisfaction\"]]\n",
    "\n",
    "country_stats.rename(columns={\"GDP per capita\": \"PKB per capita\"}, inplace=True)\n",
    "country_stats.rename(columns={\"Life satisfaction\": \"Satysfakcja z zycia\"}, inplace=True)\n",
    "\n",
    "# Wizualizuje dane\n",
    "country_stats.plot(kind='scatter', x=\"PKB per capita\", y='Satysfakcja z zycia')\n",
    "plt.show()\n",
    "\n",
    "# Wybiera model liniowy\n",
    "model = sklearn.linear_model.LinearRegression()\n",
    "\n",
    "# Uczy model\n",
    "model.fit(X, y)\n",
    "\n",
    "# Oblicza prognozy dla Cypru\n",
    "X_new = [[22587]]  # PKB per capita Cypru\n",
    "print(model.predict(X_new)) # wyniki [[ 5.96242338]]"
   ]
  },
  {
   "cell_type": "markdown",
   "id": "9ac84e0f",
   "metadata": {},
   "source": [
    "#Wczytanie danych i przygotowanie danych satysfakcji z życia"
   ]
  },
  {
   "cell_type": "code",
   "execution_count": null,
   "id": "c050c21d",
   "metadata": {},
   "outputs": [],
   "source": []
  }
 ],
 "metadata": {
  "kernelspec": {
   "display_name": "Python 3 (ipykernel)",
   "language": "python",
   "name": "python3"
  },
  "language_info": {
   "codemirror_mode": {
    "name": "ipython",
    "version": 3
   },
   "file_extension": ".py",
   "mimetype": "text/x-python",
   "name": "python",
   "nbconvert_exporter": "python",
   "pygments_lexer": "ipython3",
   "version": "3.9.12"
  }
 },
 "nbformat": 4,
 "nbformat_minor": 5
}
